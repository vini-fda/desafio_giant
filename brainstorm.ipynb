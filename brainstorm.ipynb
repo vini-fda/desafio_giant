{
 "cells": [
  {
   "cell_type": "markdown",
   "metadata": {},
   "source": [
    "# Mestre do Mario Kart\n",
    "Você e seus amigos estão disputando um campeonato de Mario Kart chamado o “Mestre do Mario Kart”. Neste campeonato,\n",
    "um jogador começa como “mestre do Mario Kart” e os outros como desafiantes, que enfrentam o mestre a cada rodada. \n",
    "\n",
    "- Em\n",
    "uma rodada, um desafiante joga contra o então “mestre do Mario Kart” e precisa vencer 2 partidas seguidas para se tornar o\n",
    "novo “mestre do Mario Kart”; \n",
    "- caso não consiga, ele retorna ao final da fila de desafiantes. \n",
    "- Se o mestre é derrotado, o\n",
    "desafiante se torna o novo “mestre do Mario Kart” e o perdedor entra no final da fila de desafiantes. \n",
    "- Um competidor é\n",
    "declarado vencedor do campeonato se ele, enquanto “mestre do Mario Kart”, venceu todos os outros competidores\n",
    "consecutivamente."
   ]
  },
  {
   "cell_type": "markdown",
   "metadata": {},
   "source": [
    "## Nível de habilidade\n",
    "\n",
    "Cada competidor possui um nível de habilidade, que é um número inteiro de 1 a 99. \n",
    "\n",
    "Suponha que, em uma partida disputada\n",
    "entre competidores de níveis $x$ e $y$, a probabilidade de vitória do competidor de nível $x$ é dada por $x/(x+y)$ e a do competidor de\n",
    "nível $y$ é $y/(x+y)$."
   ]
  },
  {
   "cell_type": "markdown",
   "metadata": {},
   "source": [
    "## Solicitação\n",
    "\n",
    "- Para uma lista de campeonatos possíveis, disponibilizada no arquivo campeonatos.txt, enviado junto ao enunciado do\n",
    "desafio, pedimos que você nos envie um arquivo no formato .txt com a **probabilidade de que o primeiro “mestre do\n",
    "Mario Kart” seja o vencedor para cada um dos campeonatos, com precisão de pelo menos 6 casas decimais**, em que\n",
    "cada linha do arquivo contém a probabilidade do campeonato correspondente. \n",
    "\n",
    "- Caso você não consiga determinar a\n",
    "probabilidade de algum campeonato, pedimos que preencha a linha do campeonato com 0, de forma a facilitar o processo de\n",
    "correção."
   ]
  },
  {
   "cell_type": "code",
   "execution_count": 2,
   "metadata": {},
   "outputs": [],
   "source": [
    "using LinearAlgebra, SparseArrays, Combinatorics"
   ]
  },
  {
   "cell_type": "code",
   "execution_count": 3,
   "metadata": {},
   "outputs": [
    {
     "data": {
      "text/plain": [
       "prob_lose (generic function with 1 method)"
      ]
     },
     "execution_count": 3,
     "metadata": {},
     "output_type": "execute_result"
    }
   ],
   "source": [
    "\n",
    "# Probability that A(ability x) loses against B(ability y)\n",
    "# therefore, there will be a probability p^2 \n",
    "# that B will become the new Mario Kart Master\n",
    "prob_lose(x, y) = y // (x+y)"
   ]
  },
  {
   "cell_type": "code",
   "execution_count": 4,
   "metadata": {},
   "outputs": [
    {
     "data": {
      "text/plain": [
       "markov_states (generic function with 1 method)"
      ]
     },
     "execution_count": 4,
     "metadata": {},
     "output_type": "execute_result"
    }
   ],
   "source": [
    "struct MarkovState{T<:Integer}\n",
    "    # Stores the player sequence\n",
    "    # in which the first element is the Mario Kart Master,\n",
    "    # the second element is the challenger(first one in the queue)\n",
    "    # and so on...\n",
    "    player_sequence::Vector{T}\n",
    "    # The respective abilities of each player\n",
    "    ability_sequence::Vector{T}\n",
    "    # The current amount of times the Mario Kart Master has won\n",
    "    w::T\n",
    "\n",
    "    function MarkovState{T}(player_sequence::Vector{T}, H::Vector{T}, w::T) where T <: Integer\n",
    "        new(player_sequence, H[player_sequence], w)\n",
    "    end\n",
    "end\n",
    "\n",
    "MarkovState(player_sequence, H, w::T) where T <: Integer = MarkovState{T}(player_sequence, H, w)\n",
    "\n",
    "# generates all possible markov states for a given n\n",
    "function markov_states(n, H)\n",
    "    # initial player sequence, e.g. abcd or 1234\n",
    "    canonical_sequence = 1:n\n",
    "    # all permutations of player sequences\n",
    "    p_seqs = permutations(canonical_sequence)\n",
    "    # amount of times the Mario Kart Master has won\n",
    "    w_seq = 0:(n-2)\n",
    "\n",
    "    vec([MarkovState(p_seq, H, w) for p_seq in p_seqs, w in w_seq])\n",
    "end"
   ]
  },
  {
   "cell_type": "code",
   "execution_count": 5,
   "metadata": {},
   "outputs": [
    {
     "data": {
      "text/plain": [
       "282240"
      ]
     },
     "execution_count": 5,
     "metadata": {},
     "output_type": "execute_result"
    }
   ],
   "source": [
    "# abilities of the players(indexed in order)\n",
    "#H = [1,1,1,1]\n",
    "H = fill(1,6) # H is for 'habilidade'\n",
    "n = length(H) # number of players\n",
    "MS = markov_states(n, H) # there are n! × (n-1) markov states\n",
    "m = length(MS)"
   ]
  },
  {
   "cell_type": "code",
   "execution_count": 6,
   "metadata": {},
   "outputs": [
    {
     "data": {
      "text/plain": [
       "282240×282240 SparseMatrixCSC{Float64, Int64} with 524160 stored entries:\n",
       "⣲⣩⣽⡶⢶⣚⢻⣄⡀⠀⠀⠀⠀⠀⠀⠀⠀⠀⠀⠀⠀⠀⠀⠀⠀⠀⠀⠀⠀⠀⠀⠀⠀⠀⠀⠀⠀⠀⠀⠀\n",
       "⣭⣷⠦⢿⣛⣯⠀⠉⢿⣄⡀⠀⠀⠀⠀⠀⠀⠀⠀⠀⠀⠀⠀⠀⠀⠀⠀⠀⠀⠀⠀⠀⠀⠀⠀⠀⠀⠀⠀⠀\n",
       "⠷⣾⣟⣻⣍⡭⠀⠀⠀⠉⢷⣤⡀⠀⠀⠀⠀⠀⠀⠀⠀⠀⠀⠀⠀⠀⠀⠀⠀⠀⠀⠀⠀⠀⠀⠀⠀⠀⠀⠀\n",
       "⠶⢼⣛⣻⣭⣷⠀⠀⠀⠀⠀⠘⢷⣤⠀⠀⠀⠀⠀⠀⠀⠀⠀⠀⠀⠀⠀⠀⠀⠀⠀⠀⠀⠀⠀⠀⠀⠀⠀⠀\n",
       "⢿⣛⣧⣭⣷⠾⠀⠀⠀⠀⠀⠀⠀⠙⠷⣦⠀⠀⠀⠀⠀⠀⠀⠀⠀⠀⠀⠀⠀⠀⠀⠀⠀⠀⠀⠀⠀⠀⠀⠀\n",
       "⠛⣯⣽⣶⣮⡛⠀⠀⠀⠀⠀⠀⠀⠀⠀⠙⢷⣆⠀⠀⠀⠀⠀⠀⠀⠀⠀⠀⠀⠀⠀⠀⠀⠀⠀⠀⠀⠀⠀⠀\n",
       "⣻⣬⡽⡶⢿⣛⠀⠀⠀⠀⠀⠀⠀⠀⠀⠀⠀⠙⢻⣆⠀⠀⠀⠀⠀⠀⠀⠀⠀⠀⠀⠀⠀⠀⠀⠀⠀⠀⠀⠀\n",
       "⣭⣷⠶⣟⣛⣯⠀⠀⠀⠀⠀⠀⠀⠀⠀⠀⠀⠀⠀⠉⢿⣄⡀⠀⠀⠀⠀⠀⠀⠀⠀⠀⠀⠀⠀⠀⠀⠀⠀⠀\n",
       "⣓⢾⠿⣿⣥⣍⠀⠀⠀⠀⠀⠀⠀⠀⠀⠀⠀⠀⠀⠀⠀⠉⢷⣤⡀⠀⠀⠀⠀⠀⠀⠀⠀⠀⠀⠀⠀⠀⠀⠀\n",
       "⠶⢾⡛⣻⣭⣷⠀⠀⠀⠀⠀⠀⠀⠀⠀⠀⠀⠀⠀⠀⠀⠀⠀⠘⢷⣤⠀⠀⠀⠀⠀⠀⠀⠀⠀⠀⠀⠀⠀⠀\n",
       "⢿⣛⣯⣭⡷⠶⠀⠀⠀⠀⠀⠀⠀⠀⠀⠀⠀⠀⠀⠀⠀⠀⠀⠀⠀⠘⠷⣦⠀⠀⠀⠀⠀⠀⠀⠀⠀⠀⠀⠀\n",
       "⣉⢛⣿⣶⡷⢯⠀⠀⠀⠀⠀⠀⠀⠀⠀⠀⠀⠀⠀⠀⠀⠀⠀⠀⠀⠀⠀⠙⢷⣆⠀⠀⠀⠀⠀⠀⠀⠀⠀⠀\n",
       "⣻⣭⣝⠶⢿⣛⠀⠀⠀⠀⠀⠀⠀⠀⠀⠀⠀⠀⠀⠀⠀⠀⠀⠀⠀⠀⠀⠀⠀⠙⢻⣆⠀⠀⠀⠀⠀⠀⠀⠀\n",
       "⣭⣷⠾⣟⡛⣯⠀⠀⠀⠀⠀⠀⠀⠀⠀⠀⠀⠀⠀⠀⠀⠀⠀⠀⠀⠀⠀⠀⠀⠀⠀⠙⢿⣄⡀⠀⠀⠀⠀⠀\n",
       "⣤⡻⠿⣟⣻⣥⠀⠀⠀⠀⠀⠀⠀⠀⠀⠀⠀⠀⠀⠀⠀⠀⠀⠀⠀⠀⠀⠀⠀⠀⠀⠀⠀⠉⢷⣤⡀⠀⠀⠀\n",
       "⡶⢿⣋⣻⣭⣷⠀⠀⠀⠀⠀⠀⠀⠀⠀⠀⠀⠀⠀⠀⠀⠀⠀⠀⠀⠀⠀⠀⠀⠀⠀⠀⠀⠀⠀⠘⢷⣤⠀⠀\n",
       "⢿⣛⣯⣭⡝⠶⠀⠀⠀⠀⠀⠀⠀⠀⠀⠀⠀⠀⠀⠀⠀⠀⠀⠀⠀⠀⠀⠀⠀⠀⠀⠀⠀⠀⠀⠀⠀⠘⠷⣦\n",
       "⣒⣙⣯⣽⡿⢷⠀⠀⠀⠀⠀⠀⠀⠀⠀⠀⠀⠀⠀⠀⠀⠀⠀⠀⠀⠀⠀⠀⠀⠀⠀⠀⠀⠀⠀⠀⠀⠀⠀⠉\n",
       "⣻⣭⣧⠶⢿⣛⠀⠀⠀⠀⠀⠀⠀⠀⠀⠀⠀⠀⠀⠀⠀⠀⠀⠀⠀⠀⠀⠀⠀⠀⠀⠀⠀⠀⠀⠀⠀⠀⠀⠀\n",
       "⠭⠷⠾⣟⣋⡻⠀⠀⠀⠀⠀⠀⠀⠀⠀⠀⠀⠀⠀⠀⠀⠀⠀⠀⠀⠀⠀⠀⠀⠀⠀⠀⠀⠀⠀⠀⠀⠀⠀⠀"
      ]
     },
     "execution_count": 6,
     "metadata": {},
     "output_type": "execute_result"
    }
   ],
   "source": [
    "# S matrix m × m\n",
    "rows_S = Int64[]\n",
    "cols_S = Int64[]\n",
    "vals_S = Float64[]\n",
    "\n",
    "# T matrix m × n\n",
    "rows_T = Int64[]\n",
    "cols_T = Int64[]\n",
    "vals_T = Float64[]\n",
    "\n",
    "blksize = factorial(n)\n",
    "  \n",
    "for i in 1:m\n",
    "    s1 = MS[i]\n",
    "    p1 = s1.player_sequence\n",
    "    x = s1.ability_sequence[1] # master's ability\n",
    "    y = s1.ability_sequence[2] # challenger's ability\n",
    "\n",
    "    # Probability that the challenger will become the new master\n",
    "    # Note: when this state transition occurs, the new state\n",
    "    # has w = 0, i.e. the amount of times the master has won is reset to 0\n",
    "    b = vcat(p1[2], p1[3:end], p1[1])\n",
    "    j = nthperm(b)\n",
    "    push!(rows_S, i)\n",
    "    push!(cols_S, j)\n",
    "    push!(vals_S, prob_lose(x, y)^2)\n",
    "\n",
    "    \n",
    "    #@assert (nthperm(p1) + blksize * s1.w) == i\n",
    "    if s1.w < n - 2\n",
    "        # Probability that the master will keep his title\n",
    "        # Note: when this state transition occurs, the new state\n",
    "        # has w += 1, i.e. the amount of times the master has won is increased by 1\n",
    "        a = vcat(p1[1], p1[3:end], p1[2])\n",
    "        j = nthperm(a) + (s1.w + 1) * blksize\n",
    "        push!(rows_S, i)\n",
    "        push!(cols_S, j)\n",
    "        push!(vals_S, 1 - prob_lose(x, y)^2)\n",
    "    elseif s1.w == n - 2\n",
    "        # Probability that the master will transition to the final state(absorption)\n",
    "        jT = p1[1]\n",
    "        push!(rows_T, i)\n",
    "        push!(cols_T, jT)\n",
    "        push!(vals_T, 1 - prob_lose(x, y)^2)\n",
    "    end\n",
    "end\n",
    "\n",
    "# S is a m × m matrix of \n",
    "# state transition probabilities\n",
    "S = sparse(rows_S, cols_S, vals_S, m, m)"
   ]
  },
  {
   "cell_type": "code",
   "execution_count": 7,
   "metadata": {},
   "outputs": [],
   "source": [
    "# T: matrix which has the transition probabilities\n",
    "# to the final states\n",
    "T = sparse(rows_T, cols_T, vals_T, m, n);"
   ]
  },
  {
   "cell_type": "code",
   "execution_count": 8,
   "metadata": {},
   "outputs": [
    {
     "data": {
      "text/plain": [
       "282240×282240 SparseMatrixCSC{Float64, Int64} with 806400 stored entries:\n",
       "⣳⣭⣽⡶⢶⣚⢻⣄⡀⠀⠀⠀⠀⠀⠀⠀⠀⠀⠀⠀⠀⠀⠀⠀⠀⠀⠀⠀⠀⠀⠀⠀⠀⠀⠀⠀⠀⠀⠀⠀\n",
       "⣭⣷⠷⢿⣛⣯⠀⠉⢿⣄⡀⠀⠀⠀⠀⠀⠀⠀⠀⠀⠀⠀⠀⠀⠀⠀⠀⠀⠀⠀⠀⠀⠀⠀⠀⠀⠀⠀⠀⠀\n",
       "⠷⣾⣟⣻⣝⣭⠀⠀⠀⠉⢷⣤⡀⠀⠀⠀⠀⠀⠀⠀⠀⠀⠀⠀⠀⠀⠀⠀⠀⠀⠀⠀⠀⠀⠀⠀⠀⠀⠀⠀\n",
       "⠶⢼⣛⣻⣭⣷⠑⢄⠀⠀⠀⠘⢷⣤⠀⠀⠀⠀⠀⠀⠀⠀⠀⠀⠀⠀⠀⠀⠀⠀⠀⠀⠀⠀⠀⠀⠀⠀⠀⠀\n",
       "⢿⣛⣧⣭⣷⠾⠀⠀⠑⢄⠀⠀⠀⠙⠷⣦⠀⠀⠀⠀⠀⠀⠀⠀⠀⠀⠀⠀⠀⠀⠀⠀⠀⠀⠀⠀⠀⠀⠀⠀\n",
       "⠛⣯⣽⣶⣮⡛⠀⠀⠀⠀⠑⢄⠀⠀⠀⠙⢷⣆⠀⠀⠀⠀⠀⠀⠀⠀⠀⠀⠀⠀⠀⠀⠀⠀⠀⠀⠀⠀⠀⠀\n",
       "⣻⣬⡽⡶⢿⣛⠀⠀⠀⠀⠀⠀⠑⢄⠀⠀⠀⠙⢻⣆⠀⠀⠀⠀⠀⠀⠀⠀⠀⠀⠀⠀⠀⠀⠀⠀⠀⠀⠀⠀\n",
       "⣭⣷⠶⣟⣛⣯⠀⠀⠀⠀⠀⠀⠀⠀⠑⢄⠀⠀⠀⠉⢿⣄⡀⠀⠀⠀⠀⠀⠀⠀⠀⠀⠀⠀⠀⠀⠀⠀⠀⠀\n",
       "⣓⢾⠿⣿⣥⣍⠀⠀⠀⠀⠀⠀⠀⠀⠀⠀⠑⢄⠀⠀⠀⠉⢷⣤⡀⠀⠀⠀⠀⠀⠀⠀⠀⠀⠀⠀⠀⠀⠀⠀\n",
       "⠶⢾⡛⣻⣭⣷⠀⠀⠀⠀⠀⠀⠀⠀⠀⠀⠀⠀⠑⢄⠀⠀⠀⠘⢷⣤⠀⠀⠀⠀⠀⠀⠀⠀⠀⠀⠀⠀⠀⠀\n",
       "⢿⣛⣯⣭⡷⠶⠀⠀⠀⠀⠀⠀⠀⠀⠀⠀⠀⠀⠀⠀⠑⢄⠀⠀⠀⠘⠷⣦⠀⠀⠀⠀⠀⠀⠀⠀⠀⠀⠀⠀\n",
       "⣉⢛⣿⣶⡷⢯⠀⠀⠀⠀⠀⠀⠀⠀⠀⠀⠀⠀⠀⠀⠀⠀⠑⢄⠀⠀⠀⠙⢷⣆⠀⠀⠀⠀⠀⠀⠀⠀⠀⠀\n",
       "⣻⣭⣝⠶⢿⣛⠀⠀⠀⠀⠀⠀⠀⠀⠀⠀⠀⠀⠀⠀⠀⠀⠀⠀⠑⢄⠀⠀⠀⠙⢻⣆⠀⠀⠀⠀⠀⠀⠀⠀\n",
       "⣭⣷⠾⣟⡛⣯⠀⠀⠀⠀⠀⠀⠀⠀⠀⠀⠀⠀⠀⠀⠀⠀⠀⠀⠀⠀⠑⢄⠀⠀⠀⠙⢿⣄⡀⠀⠀⠀⠀⠀\n",
       "⣤⡻⠿⣟⣻⣥⠀⠀⠀⠀⠀⠀⠀⠀⠀⠀⠀⠀⠀⠀⠀⠀⠀⠀⠀⠀⠀⠀⠑⢄⠀⠀⠀⠉⢷⣤⡀⠀⠀⠀\n",
       "⡶⢿⣋⣻⣭⣷⠀⠀⠀⠀⠀⠀⠀⠀⠀⠀⠀⠀⠀⠀⠀⠀⠀⠀⠀⠀⠀⠀⠀⠀⠑⢄⠀⠀⠀⠘⢷⣤⠀⠀\n",
       "⢿⣛⣯⣭⡝⠶⠀⠀⠀⠀⠀⠀⠀⠀⠀⠀⠀⠀⠀⠀⠀⠀⠀⠀⠀⠀⠀⠀⠀⠀⠀⠀⠑⢄⠀⠀⠀⠘⠷⣦\n",
       "⣒⣙⣯⣽⡿⢷⠀⠀⠀⠀⠀⠀⠀⠀⠀⠀⠀⠀⠀⠀⠀⠀⠀⠀⠀⠀⠀⠀⠀⠀⠀⠀⠀⠀⠑⢄⠀⠀⠀⠉\n",
       "⣻⣭⣧⠶⢿⣛⠀⠀⠀⠀⠀⠀⠀⠀⠀⠀⠀⠀⠀⠀⠀⠀⠀⠀⠀⠀⠀⠀⠀⠀⠀⠀⠀⠀⠀⠀⠑⢄⠀⠀\n",
       "⠭⠷⠾⣟⣋⡻⠀⠀⠀⠀⠀⠀⠀⠀⠀⠀⠀⠀⠀⠀⠀⠀⠀⠀⠀⠀⠀⠀⠀⠀⠀⠀⠀⠀⠀⠀⠀⠀⠑⢄"
      ]
     },
     "execution_count": 8,
     "metadata": {},
     "output_type": "execute_result"
    }
   ],
   "source": [
    "IS = Float64.(1.0I - S)"
   ]
  },
  {
   "cell_type": "code",
   "execution_count": 9,
   "metadata": {},
   "outputs": [],
   "source": [
    "soln = IS \\ collect(T)"
   ]
  },
  {
   "cell_type": "code",
   "execution_count": null,
   "metadata": {},
   "outputs": [
    {
     "data": {
      "text/plain": [
       "0.5065812082824597"
      ]
     },
     "execution_count": 46,
     "metadata": {},
     "output_type": "execute_result"
    }
   ],
   "source": [
    "soln[1,1]"
   ]
  },
  {
   "cell_type": "code",
   "execution_count": 7,
   "metadata": {},
   "outputs": [
    {
     "data": {
      "text/plain": [
       "6×2 Matrix{Rational{Int64}}:\n",
       " 0//1  0//1\n",
       " 0//1  0//1\n",
       " 0//1  0//1\n",
       " 3//4  0//1\n",
       " 0//1  3//4\n",
       " 0//1  3//4"
      ]
     },
     "execution_count": 7,
     "metadata": {},
     "output_type": "execute_result"
    }
   ],
   "source": [
    "S = [0 0 1//4 3//4 0 0\n",
    "    1//4 0 0 0 0 3//4\n",
    "    0 1//4 0 0 3//4 0\n",
    "    0 0 1//4 0 0 0\n",
    "    1//4 0 0 0 0 0\n",
    "    0 1//4 0 0 0 0]\n",
    "\n",
    "T = [0 0\n",
    "    0 0\n",
    "    0 0\n",
    "    3//4 0\n",
    "    0 3//4\n",
    "    0 3//4]"
   ]
  },
  {
   "cell_type": "code",
   "execution_count": 8,
   "metadata": {},
   "outputs": [
    {
     "data": {
      "text/plain": [
       "6×2 Matrix{Rational{Int64}}:\n",
       " 208//327  119//327\n",
       "  64//327  263//327\n",
       "  55//327  272//327\n",
       " 259//327   68//327\n",
       "  52//327  275//327\n",
       "  16//327  311//327"
      ]
     },
     "execution_count": 8,
     "metadata": {},
     "output_type": "execute_result"
    }
   ],
   "source": [
    "R = (I - S)\n",
    "X = inv(R) * T"
   ]
  }
 ],
 "metadata": {
  "kernelspec": {
   "display_name": "Julia 1.6.0",
   "language": "julia",
   "name": "julia-1.6"
  },
  "language_info": {
   "file_extension": ".jl",
   "mimetype": "application/julia",
   "name": "julia",
   "version": "1.6.1"
  },
  "orig_nbformat": 4
 },
 "nbformat": 4,
 "nbformat_minor": 2
}
