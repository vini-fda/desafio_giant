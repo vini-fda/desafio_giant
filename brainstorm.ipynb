{
 "cells": [
  {
   "cell_type": "markdown",
   "metadata": {},
   "source": [
    "# Mestre do Mario Kart\n",
    "Você e seus amigos estão disputando um campeonato de Mario Kart chamado o “Mestre do Mario Kart”. Neste campeonato,\n",
    "um jogador começa como “mestre do Mario Kart” e os outros como desafiantes, que enfrentam o mestre a cada rodada. \n",
    "\n",
    "- Em\n",
    "uma rodada, um desafiante joga contra o então “mestre do Mario Kart” e precisa vencer 2 partidas seguidas para se tornar o\n",
    "novo “mestre do Mario Kart”; \n",
    "- caso não consiga, ele retorna ao final da fila de desafiantes. \n",
    "- Se o mestre é derrotado, o\n",
    "desafiante se torna o novo “mestre do Mario Kart” e o perdedor entra no final da fila de desafiantes. \n",
    "- Um competidor é\n",
    "declarado vencedor do campeonato se ele, enquanto “mestre do Mario Kart”, venceu todos os outros competidores\n",
    "consecutivamente."
   ]
  },
  {
   "cell_type": "markdown",
   "metadata": {},
   "source": [
    "## Nível de habilidade\n",
    "\n",
    "Cada competidor possui um nível de habilidade, que é um número inteiro de 1 a 99. \n",
    "\n",
    "Suponha que, em uma partida disputada\n",
    "entre competidores de níveis $x$ e $y$, a probabilidade de vitória do competidor de nível $x$ é dada por $x/(x+y)$ e a do competidor de\n",
    "nível $y$ é $y/(x+y)$."
   ]
  },
  {
   "cell_type": "markdown",
   "metadata": {},
   "source": [
    "## Solicitação\n",
    "\n",
    "- Para uma lista de campeonatos possíveis, disponibilizada no arquivo campeonatos.txt, enviado junto ao enunciado do\n",
    "desafio, pedimos que você nos envie um arquivo no formato .txt com a **probabilidade de que o primeiro “mestre do\n",
    "Mario Kart” seja o vencedor para cada um dos campeonatos, com precisão de pelo menos 6 casas decimais**, em que\n",
    "cada linha do arquivo contém a probabilidade do campeonato correspondente. \n",
    "\n",
    "- Caso você não consiga determinar a\n",
    "probabilidade de algum campeonato, pedimos que preencha a linha do campeonato com 0, de forma a facilitar o processo de\n",
    "correção."
   ]
  },
  {
   "cell_type": "code",
   "execution_count": 1,
   "metadata": {},
   "outputs": [
    {
     "data": {
      "text/plain": [
       "2×2 Matrix{Float64}:\n",
       " 0.555556  0.0\n",
       " 0.0       0.888889"
      ]
     },
     "execution_count": 1,
     "metadata": {},
     "output_type": "execute_result"
    }
   ],
   "source": [
    "using LinearAlgebra\n",
    "\n",
    "x = 1\n",
    "y = 2\n",
    "\n",
    "pAB = (y / (x + y))^2;\n",
    "pBA = (x / (x + y))^2;\n",
    "pAα = 1 - pAB;\n",
    "pBβ = 1 - pBA;\n",
    "\n",
    "#M = [(1 - pAB) pAB; pBA (1 - pBA)]\n",
    "Q = [0 pAB\n",
    "     pBA 0]\n",
    "R = [pAα 0\n",
    "     0 pBβ]\n",
    "# M = [0 pAB pAα 0\n",
    "#      pBA 0 0 pBβ\n",
    "#      0 0 1 0\n",
    "#      0 0 0 1]"
   ]
  },
  {
   "cell_type": "code",
   "execution_count": 2,
   "metadata": {},
   "outputs": [
    {
     "data": {
      "text/plain": [
       "2×2 Matrix{Float64}:\n",
       " 1.05195   0.467532\n",
       " 0.116883  1.05195"
      ]
     },
     "execution_count": 2,
     "metadata": {},
     "output_type": "execute_result"
    }
   ],
   "source": [
    "N = inv(I - Q)"
   ]
  },
  {
   "cell_type": "code",
   "execution_count": 3,
   "metadata": {},
   "outputs": [
    {
     "data": {
      "text/plain": [
       "2×2 Matrix{Float64}:\n",
       " 0.584416   0.415584\n",
       " 0.0649351  0.935065"
      ]
     },
     "execution_count": 3,
     "metadata": {},
     "output_type": "execute_result"
    }
   ],
   "source": [
    "N*R"
   ]
  },
  {
   "cell_type": "code",
   "execution_count": 4,
   "metadata": {},
   "outputs": [
    {
     "data": {
      "text/plain": [
       "prob_lose (generic function with 1 method)"
      ]
     },
     "execution_count": 4,
     "metadata": {},
     "output_type": "execute_result"
    }
   ],
   "source": [
    "\n",
    "# Probability that A(ability x) loses against B(ability y)\n",
    "# therefore, there will be a probability p^2 \n",
    "# that B will become the new Mario Kart Master\n",
    "prob_lose(x, y) = y // (x+y)"
   ]
  },
  {
   "cell_type": "code",
   "execution_count": 5,
   "metadata": {},
   "outputs": [
    {
     "data": {
      "text/plain": [
       "markov_states (generic function with 1 method)"
      ]
     },
     "execution_count": 5,
     "metadata": {},
     "output_type": "execute_result"
    }
   ],
   "source": [
    "using Combinatorics\n",
    "\n",
    "struct MarkovState{T<:Integer}\n",
    "    # Stores the player sequence\n",
    "    # in which the first element is the Mario Kart Master,\n",
    "    # the second element is the challenger(first one in the queue)\n",
    "    # and so on...\n",
    "    player_sequence::Vector{T}\n",
    "    # The respective abilities of each player\n",
    "    ability_sequence::Vector{T}\n",
    "    # The current amount of times the Mario Kart Master has won\n",
    "    w::T\n",
    "\n",
    "    function MarkovState{T}(player_sequence::Vector{T}, H::Vector{T}, w::T) where T <: Integer\n",
    "        new(player_sequence, H[player_sequence], w)\n",
    "    end\n",
    "end\n",
    "\n",
    "MarkovState(player_sequence, H, w::T) where T <: Integer = MarkovState{T}(player_sequence, H, w)\n",
    "\n",
    "# generates all possible markov states for a given n\n",
    "function markov_states(n, H)\n",
    "    # initial player sequence, e.g. abcd or 1234\n",
    "    canonical_sequence = 1:n\n",
    "    # all permutations of player sequences\n",
    "    p_seqs = permutations(canonical_sequence)\n",
    "    # amount of times the Mario Kart Master has won\n",
    "    w_seq = 0:(n-2)\n",
    "\n",
    "    vec([MarkovState(p_seq, H, w) for p_seq in p_seqs, w in w_seq])\n",
    "end"
   ]
  },
  {
   "cell_type": "code",
   "execution_count": 6,
   "metadata": {},
   "outputs": [
    {
     "data": {
      "text/plain": [
       "transition_prob (generic function with 1 method)"
      ]
     },
     "execution_count": 6,
     "metadata": {},
     "output_type": "execute_result"
    }
   ],
   "source": [
    "# abilities of the players(indexed in order)\n",
    "H = [1, 1, 1, 1] # H is for 'habilidade'\n",
    "n = length(H) # number of players\n",
    "MS = markov_states(n, H)\n",
    "\n",
    "# Transition probability rule\n",
    "# Tells the probability of the state transition s(i) -> s(j)\n",
    "function transition_prob(MS, i, j)\n",
    "    if i == j\n",
    "        0\n",
    "    else\n",
    "        # Get the actual states\n",
    "        s1, s2 = MS[i], MS[j]\n",
    "\n",
    "        p1 = s1.player_sequence\n",
    "        p2 = s2.player_sequence\n",
    "        \n",
    "        master_s1 = p1[1] \n",
    "        master_s2 = p2[1] \n",
    "\n",
    "        challenger = p1[2]\n",
    "        loser = last(p2)\n",
    "\n",
    "        # Get the abilities of the players in each state\n",
    "        x = s1.ability_sequence[1] # master's ability\n",
    "        y = s1.ability_sequence[2] # challenger's ability\n",
    "\n",
    "        # The internal ordering of the sequence must remain the same\n",
    "        # otherwise, there will be no state transition\n",
    "        if p1[3:end] != p2[2:end-1]\n",
    "            0\n",
    "        elseif master_s1 == master_s2 && challenger == loser && s2.w == (s1.w + 1)\n",
    "            # Probability that the master will keep his title\n",
    "            # Note: when this state transition occurs, the new state\n",
    "            # has w += 1, i.e. the amount of times the master has won is increased by 1\n",
    "            1 - prob_lose(x, y)^2\n",
    "        elseif master_s2 == challenger && master_s1 == loser && s2.w == 0\n",
    "            # Probability that the challenger will become the new master\n",
    "            # Note: when this state transition occurs, the new state\n",
    "            # has w = 0, i.e. the amount of times the master has won is reset to 0\n",
    "            prob_lose(x, y)^2\n",
    "        else\n",
    "            0\n",
    "        end\n",
    "    end\n",
    "end"
   ]
  },
  {
   "cell_type": "code",
   "execution_count": 7,
   "metadata": {},
   "outputs": [
    {
     "data": {
      "text/plain": [
       "72×72 Matrix{Real}:\n",
       "  0     0     0     0     0     0    …  0  0  0  0  0  0  0  0  0  0  0  0\n",
       "  0     0     0     0     0     0       0  0  0  0  0  0  0  0  0  0  0  0\n",
       "  0     0     0     0     0     0       0  0  0  0  0  0  0  0  0  0  0  0\n",
       "  0     0     0     0     0     0       0  0  0  0  0  0  0  0  0  0  0  0\n",
       "  0     0     0     0     0     0       0  0  0  0  0  0  0  0  0  0  0  0\n",
       "  0     0     0     0     0     0    …  0  0  0  0  0  0  0  0  0  0  0  0\n",
       "  0     0     0    1//4   0     0       0  0  0  0  0  0  0  0  0  0  0  0\n",
       "  0     0     0     0     0    1//4     0  0  0  0  0  0  0  0  0  0  0  0\n",
       "  0     0     0     0     0     0       0  0  0  0  0  0  0  0  0  0  0  0\n",
       "  0     0     0     0     0     0       0  0  0  0  0  0  0  0  0  0  0  0\n",
       "  0     0     0     0     0     0    …  0  0  0  0  0  0  0  0  0  0  0  0\n",
       "  0     0     0     0     0     0       0  0  0  0  0  0  0  0  0  0  0  0\n",
       "  0    1//4   0     0     0     0       0  0  0  0  0  0  0  0  0  0  0  0\n",
       "  ⋮                             ⋮    ⋱  ⋮              ⋮              ⋮  \n",
       "  0    1//4   0     0     0     0    …  0  0  0  0  0  0  0  0  0  0  0  0\n",
       "  0     0     0     0    1//4   0       0  0  0  0  0  0  0  0  0  0  0  0\n",
       "  0     0     0     0     0     0       0  0  0  0  0  0  0  0  0  0  0  0\n",
       "  0     0     0     0     0     0       0  0  0  0  0  0  0  0  0  0  0  0\n",
       "  0     0     0     0     0     0       0  0  0  0  0  0  0  0  0  0  0  0\n",
       "  0     0     0     0     0     0    …  0  0  0  0  0  0  0  0  0  0  0  0\n",
       " 1//4   0     0     0     0     0       0  0  0  0  0  0  0  0  0  0  0  0\n",
       "  0     0    1//4   0     0     0       0  0  0  0  0  0  0  0  0  0  0  0\n",
       "  0     0     0     0     0     0       0  0  0  0  0  0  0  0  0  0  0  0\n",
       "  0     0     0     0     0     0       0  0  0  0  0  0  0  0  0  0  0  0\n",
       "  0     0     0     0     0     0    …  0  0  0  0  0  0  0  0  0  0  0  0\n",
       "  0     0     0     0     0     0       0  0  0  0  0  0  0  0  0  0  0  0"
      ]
     },
     "execution_count": 7,
     "metadata": {},
     "output_type": "execute_result"
    }
   ],
   "source": [
    "# All indexes generated by the markov states\n",
    "# So that we can create a |MS| × |MS| matrix of \n",
    "# state transition probabilities\n",
    "ps = Array(1:length(MS))\n",
    "q(a, b) = transition_prob(MS, a, b)\n",
    "Q = q.(ps, ps')"
   ]
  },
  {
   "cell_type": "code",
   "execution_count": 8,
   "metadata": {},
   "outputs": [
    {
     "data": {
      "text/plain": [
       "final_transition_prob (generic function with 1 method)"
      ]
     },
     "execution_count": 8,
     "metadata": {},
     "output_type": "execute_result"
    }
   ],
   "source": [
    "function final_transition_prob(MS, n, i, j)\n",
    "    # markov state(row)\n",
    "    s = MS[i]\n",
    "    master = s.player_sequence[1]\n",
    "    # j indicates the final winner, which is the current master\n",
    "    # (i.e. it is the absorption state in the markov chain)\n",
    "    # n is the number of players\n",
    "    if s.w == n - 2 && master == j\n",
    "        # Get the abilities of the players in each state\n",
    "        x = s.ability_sequence[1] # master's ability\n",
    "        y = s.ability_sequence[2] # challenger's ability\n",
    "        # Probability that the master will be the final winner\n",
    "        1 - prob_lose(x, y)^2\n",
    "    else\n",
    "        0\n",
    "    end\n",
    "end"
   ]
  },
  {
   "cell_type": "code",
   "execution_count": 9,
   "metadata": {},
   "outputs": [],
   "source": [
    "r(i, j) = final_transition_prob(MS, n, i, j)\n",
    "\n",
    "# R: matrix which has the transition probabilities\n",
    "# to the final states\n",
    "R = r.(ps, (1:n)');"
   ]
  },
  {
   "cell_type": "code",
   "execution_count": 10,
   "metadata": {},
   "outputs": [
    {
     "data": {
      "text/plain": [
       "72×1 Matrix{Real}:\n",
       " 1//1\n",
       " 1//1\n",
       " 1//1\n",
       " 1//1\n",
       " 1//1\n",
       " 1//1\n",
       " 1//1\n",
       " 1//1\n",
       " 1//1\n",
       " 1//1\n",
       " 1//1\n",
       " 1//1\n",
       " 1//1\n",
       "  ⋮\n",
       " 1//1\n",
       " 1//1\n",
       " 1//1\n",
       " 1//1\n",
       " 1//1\n",
       " 1//1\n",
       " 1//1\n",
       " 1//1\n",
       " 1//1\n",
       " 1//1\n",
       " 1//1\n",
       " 1//1"
      ]
     },
     "execution_count": 10,
     "metadata": {},
     "output_type": "execute_result"
    }
   ],
   "source": [
    "sum([Q R], dims=2)"
   ]
  },
  {
   "cell_type": "code",
   "execution_count": 11,
   "metadata": {},
   "outputs": [],
   "source": [
    "IQ = Float64.(I-Q)\n",
    "\n",
    "# N: Fundamental matrix\n",
    "N = inv(IQ);"
   ]
  },
  {
   "cell_type": "code",
   "execution_count": 12,
   "metadata": {},
   "outputs": [
    {
     "data": {
      "text/plain": [
       "72×4 Matrix{Any}:\n",
       " 0.506581   0.183106   0.163794   0.146519\n",
       " 0.506581   0.183106   0.146519   0.163794\n",
       " 0.506581   0.163794   0.183106   0.146519\n",
       " 0.506581   0.146519   0.183106   0.163794\n",
       " 0.506581   0.163794   0.146519   0.183106\n",
       " 0.506581   0.146519   0.163794   0.183106\n",
       " 0.183106   0.506581   0.163794   0.146519\n",
       " 0.183106   0.506581   0.146519   0.163794\n",
       " 0.163794   0.506581   0.183106   0.146519\n",
       " 0.146519   0.506581   0.183106   0.163794\n",
       " 0.163794   0.506581   0.146519   0.183106\n",
       " 0.146519   0.506581   0.163794   0.183106\n",
       " 0.183106   0.163794   0.506581   0.146519\n",
       " ⋮                                \n",
       " 0.126645   0.0457765  0.78663    0.0409485\n",
       " 0.126645   0.0409485  0.78663    0.0457765\n",
       " 0.0457765  0.126645   0.78663    0.0409485\n",
       " 0.0409485  0.126645   0.78663    0.0457765\n",
       " 0.0457765  0.0409485  0.78663    0.126645\n",
       " 0.0409485  0.0457765  0.78663    0.126645\n",
       " 0.126645   0.0457765  0.0409485  0.78663\n",
       " 0.126645   0.0409485  0.0457765  0.78663\n",
       " 0.0457765  0.126645   0.0409485  0.78663\n",
       " 0.0409485  0.126645   0.0457765  0.78663\n",
       " 0.0457765  0.0409485  0.126645   0.78663\n",
       " 0.0409485  0.0457765  0.126645   0.78663"
      ]
     },
     "execution_count": 12,
     "metadata": {},
     "output_type": "execute_result"
    }
   ],
   "source": [
    "# Absorption probabilities\n",
    "NR = N*R;\n",
    "NR"
   ]
  }
 ],
 "metadata": {
  "kernelspec": {
   "display_name": "Julia 1.6.0",
   "language": "julia",
   "name": "julia-1.6"
  },
  "language_info": {
   "file_extension": ".jl",
   "mimetype": "application/julia",
   "name": "julia",
   "version": "1.6.1"
  },
  "orig_nbformat": 4
 },
 "nbformat": 4,
 "nbformat_minor": 2
}
